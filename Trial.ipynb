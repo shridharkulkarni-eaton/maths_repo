{
 "cells": [
  {
   "cell_type": "code",
   "execution_count": 23,
   "metadata": {},
   "outputs": [],
   "source": [
    "import pandas as pd\n",
    "import numpy as np"
   ]
  },
  {
   "cell_type": "code",
   "execution_count": 24,
   "metadata": {},
   "outputs": [
    {
     "name": "stdout",
     "output_type": "stream",
     "text": [
      "3\n",
      "7\n"
     ]
    }
   ],
   "source": [
    "a = 3\n",
    "b = 4\n",
    "print(a)\n",
    "print(a + b)"
   ]
  },
  {
   "cell_type": "code",
   "execution_count": 25,
   "metadata": {},
   "outputs": [
    {
     "name": "stdout",
     "output_type": "stream",
     "text": [
      "3 times 4 is 12\n"
     ]
    }
   ],
   "source": [
    "c = a * b\n",
    "print(\"{} times {} is {}\".format(a, b, c))"
   ]
  },
  {
   "cell_type": "code",
   "execution_count": 26,
   "metadata": {},
   "outputs": [
    {
     "name": "stdout",
     "output_type": "stream",
     "text": [
      "12\n"
     ]
    }
   ],
   "source": [
    "def multi(a, b):\n",
    "    c = a * b\n",
    "    return c\n",
    "\n",
    "\n",
    "q = multi(a, b)\n",
    "print(q)"
   ]
  },
  {
   "cell_type": "code",
   "execution_count": 27,
   "metadata": {},
   "outputs": [],
   "source": [
    "class maths:\n",
    "    pi = 3.142\n",
    "\n",
    "    def sum(a, b):\n",
    "        c = a + b\n",
    "        print(\"Sum of {} and {} is {} .\".format(a, b, c))\n",
    "        return c\n",
    "\n",
    "    def sub(a, b):\n",
    "        c = a - b\n",
    "        print(\"Difference of {} and {} is {} .\".format(a, b, c))\n",
    "        return c\n",
    "\n",
    "    def mult_pi(a):\n",
    "        print(\"Pi times {} is {}\".format(a, maths.pi * a))\n",
    "        return maths.pi * a  ## Using class objects in methods"
   ]
  },
  {
   "cell_type": "code",
   "execution_count": 28,
   "metadata": {},
   "outputs": [
    {
     "name": "stdout",
     "output_type": "stream",
     "text": [
      "Sum of 3 and 4 is 7 .\n"
     ]
    },
    {
     "data": {
      "text/plain": [
       "7"
      ]
     },
     "execution_count": 28,
     "metadata": {},
     "output_type": "execute_result"
    }
   ],
   "source": [
    "maths.sum(a, b)"
   ]
  },
  {
   "cell_type": "code",
   "execution_count": 48,
   "metadata": {},
   "outputs": [],
   "source": []
  },
  {
   "cell_type": "code",
   "execution_count": 49,
   "metadata": {},
   "outputs": [
    {
     "name": "stdout",
     "output_type": "stream",
     "text": [
      "Pi times 3 is 9.426\n"
     ]
    },
    {
     "data": {
      "text/plain": [
       "9.426"
      ]
     },
     "execution_count": 49,
     "metadata": {},
     "output_type": "execute_result"
    }
   ],
   "source": [
    "ma = mathss(3.142)\n",
    "ma.mult_pi(a)"
   ]
  },
  {
   "cell_type": "code",
   "execution_count": null,
   "metadata": {},
   "outputs": [],
   "source": [
    "### Price Calculation:\n",
    "def price(user, tme, OS, jobs, Space):\n",
    "    ## jobs= no. of jobs to be done in parallel\n",
    "    ## tme= MONTHLY use of the piepline\n",
    "    ## Space= MONTHLY use of space (in GBs)\n",
    "    if user == \"Github\":\n",
    "        if OS == \"Windows\":\n",
    "            c1 = (tme - 2000) * 0.064  ## for 8 core machine\n",
    "        if OS == \"Linux\":\n",
    "            c1 = (tme - 2000) * 0.032\n",
    "        c2 = (Space - 2) * 0.25\n",
    "    if user == \"Azure\":\n",
    "        if tme - 1800 > 0:\n",
    "            c1 = jobs * 40\n",
    "        if tme - 1800 < 0:\n",
    "            c1 = 0\n",
    "        c2 = (Space - 2) * 2\n",
    "    return c1 + c2"
   ]
  }
 ],
 "metadata": {
  "kernelspec": {
   "display_name": "Python 3",
   "language": "python",
   "name": "python3"
  },
  "language_info": {
   "codemirror_mode": {
    "name": "ipython",
    "version": 3
   },
   "file_extension": ".py",
   "mimetype": "text/x-python",
   "name": "python",
   "nbconvert_exporter": "python",
   "pygments_lexer": "ipython3",
   "version": "3.12.0"
  }
 },
 "nbformat": 4,
 "nbformat_minor": 2
}
