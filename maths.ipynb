{
 "cells": [
  {
   "cell_type": "code",
   "execution_count": null,
   "metadata": {},
   "outputs": [],
   "source": [
    "### Init Methods\n",
    "\n",
    "\n",
    "class mathss:\n",
    "    pi = 3.142\n",
    "    e = 2.37\n",
    "\n",
    "    def __init__(self, pi):\n",
    "        self.pi = pi\n",
    "\n",
    "    def sum(a, b):\n",
    "        c = a + b\n",
    "        print(\"Good you have added the two given numbers !\")\n",
    "        print(\"Sum of {} and {} is {} .\".format(a, b, c))\n",
    "        return c\n",
    "\n",
    "    def sub(a, b):\n",
    "        c = a - b\n",
    "        print(\"Good you have subtracted the two given numbers !\")\n",
    "        print(\"Difference of {} and {} is {} .\".format(a, b, c))\n",
    "        return c\n",
    "\n",
    "    def mult_pi(self, a):\n",
    "        print(\"Good you have multiplied the two given numbers !\")\n",
    "        print(\"Pi times {} is {}\".format(a, self.pi * a))\n",
    "        return self.pi * a  ## Using class objects in methods\n",
    "\n",
    "    def natural_power(a):\n",
    "        return mathss.e ^ a"
   ]
  }
 ],
 "metadata": {
  "language_info": {
   "name": "python"
  }
 },
 "nbformat": 4,
 "nbformat_minor": 2
}
